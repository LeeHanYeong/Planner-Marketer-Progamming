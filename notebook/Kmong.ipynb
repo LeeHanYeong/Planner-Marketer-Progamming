{
 "cells": [
  {
   "cell_type": "code",
   "execution_count": 1,
   "metadata": {},
   "outputs": [],
   "source": [
    "# 파이썬에서 사용하는 HTTP라이브러리인 requests모듈을 사용하기위해 가져옵니다\n",
    "import requests"
   ]
  },
  {
   "cell_type": "code",
   "execution_count": 2,
   "metadata": {},
   "outputs": [],
   "source": [
    "# 크몽 디자인 카테고리의 URL\n",
    "url = 'https://kmong.com/category/1'"
   ]
  },
  {
   "cell_type": "code",
   "execution_count": 3,
   "metadata": {},
   "outputs": [],
   "source": [
    "# 크몽 사이트에 GET요청을 보내고 돌아온 응답을 response변수에 할당\n",
    "response = requests.get(url)"
   ]
  },
  {
   "cell_type": "code",
   "execution_count": 4,
   "metadata": {},
   "outputs": [],
   "source": [
    "# 응답에서 텍스트 데이터를 꺼내 html변수에 할당\n",
    "html = response.text"
   ]
  },
  {
   "cell_type": "code",
   "execution_count": 9,
   "metadata": {},
   "outputs": [
    {
     "data": {
      "text/plain": [
       "' 크몽 - 당신의 비즈니스를 도와드립니다 '"
      ]
     },
     "execution_count": 9,
     "metadata": {},
     "output_type": "execute_result"
    }
   ],
   "source": [
    "# BeautifulSoup을 사용해서\n",
    "# 위 'url'의 주소에 해당하는 페이지의 제목을 출력\n",
    "# lxml은 파이썬에서 XML, HTML의 파싱을 도와주는 low-level 라이브러리\n",
    "# BeautifulSoup기능을 사용할 때 lxml을 추가로 사용하면 더 빠른 속도로 데이터 처리 가능\n",
    "# 하지만 없어도 됩니다\n",
    "from bs4 import BeautifulSoup\n",
    "soup = BeautifulSoup(html, 'lxml')\n",
    "soup.title.string"
   ]
  },
  {
   "cell_type": "code",
   "execution_count": 12,
   "metadata": {},
   "outputs": [
    {
     "data": {
      "text/plain": [
       "'[2017 크몽어워즈수상] 2018년에도 따뜻한 로고, 캐릭터, 캘리그라피드립니다'"
      ]
     },
     "execution_count": 12,
     "metadata": {},
     "output_type": "execute_result"
    }
   ],
   "source": [
    "# div중에, 속성의 \"class\"가 \"gig-title\"인 요소를 찾는다\n",
    "# BeautifulSoup을 사용할 때, \"class\"속성을 찾으려면\n",
    "# 항상 class_ 라는 이름을 사용한다\n",
    "# (class는 파이썬에서 예약어로 지정되어있기 때문)\n",
    "# get_text()는 해당 요소에 들어있는 \"텍스트 데이터\"만을 가져올때 사용하며,\n",
    "# strip=True옵션은 텍스트를 가져올 때 처음과 끝에 있는 공백과 줄바꿈을 모두 없애준다\n",
    "soup.find('div', class_='gig-title').get_text(strip=True)"
   ]
  },
  {
   "cell_type": "code",
   "execution_count": 15,
   "metadata": {},
   "outputs": [],
   "source": [
    "# 문서에서 class가 gig-title인 div요소를 전부 찾는다\n",
    "# 이 때는 list가 반환됨\n",
    "# title_list에는 찾은 div요소가 순차적으로 들어있음\n",
    "title_list = soup.find_all('div', class_='gig-title')"
   ]
  },
  {
   "cell_type": "code",
   "execution_count": 17,
   "metadata": {},
   "outputs": [
    {
     "name": "stdout",
     "output_type": "stream",
     "text": [
      "[2017 크몽어워즈수상] 2018년에도 따뜻한 로고, 캐릭터, 캘리그라피드립니다\n",
      "가격파괴] 100%고객맞춤 로고를 만들어드립니다\n",
      "웹 혹은 모바일 페이지 디자인시안 제작해드립니다\n",
      "(포스터/리플렛/브로슈어/메뉴판/북디자인/보고서)편집디자인, 인쇄제작 해드립니다\n",
      "[올어바웃PPT] 서강대경영학석사, 디자인공모전1위, 기획력+디자인! 을드립니다\n",
      "미니멀리즘 WUCKK LOGO SHOP. 최고의 로고 제작해드립니다\n",
      "[PPT제작] 중요한 발표,과제,제안! 연중무휴로 도와드립니다\n",
      "이벤트배너 또는 상세페이지(jpg파일)를 제작 해드립니다\n",
      "3D투시도/아이소/조감도/인테리어/건축투시도를 저렵하게 작업해드립니다\n",
      "[3단 리플렛 디자인] 깔끔하고 심플한 디자인을 만들어 드립니다\n",
      "[디자인스토리] 설날 현수막 이벤트 중!!드립니다\n",
      "소셜커머스 출신 에디터와 디자이너가 상세페이지 제작해드립니다\n",
      "[EVENT 할인] 복잡한 옵션 NO!! 최고의 로고와 명함까지드립니다\n",
      "합리적 비용으로 \"공감 \"소통\"하는 로고/BI/CI 디자인 제공해드립니다\n",
      "[누나디자인] 오픈마켓, 소셜 상세페이지 디자인을 양심적으로 해드립니다\n",
      "[디자인어스] 전문 디자인 팀이 최고의 디자인 컨설팅을 해드립니다\n",
      "상세페이지/이벤트/랜딩페이지/각종배너 제작 해드립니다\n",
      "홈페이지형 블로그[pc+mobile+원본파일 제공] 제작 해드립니다\n",
      "(오픈특가)학생이 아닌 전문디자이너가 12시간만에 로고를 끝내드립니다\n",
      "경쟁을 무의미하게 만드는. 독보적인 브랜드를 만들어드립니다\n",
      "3D 모델링 제작 / 360º 뷰어 / 색상변경, 제품 동작 / 무한 랜더샷드립니다\n",
      "캘리그라피 로고 디자인 해드립니다\n",
      "유니크한 하이퀄리티 로고/CI/BI 제작 해드립니다\n",
      "크리에이티브한 개성있는 로고를 디자인 해드립니다\n",
      "홈페이지 제작 A-Z (워드프레스) + 웹디자인드립니다\n",
      "CI.BI.LOGO 그 이상의 희소가치로 만들어드립니다\n",
      "높은 수준의 디자인 유니크한 상업용 브랜드 로고 CI/BI 만들어드립니다\n",
      "간단 로고! 디자인해드립니다\n",
      "심플하고 감각적인 로고, 캘리그라피 로고를 빠르게 제작 해드립니다\n",
      "일러스트 작업해드립니다\n",
      "민디자인 매출에 힘이 되는 모든 상세페이지 작업 해드립니다\n",
      "전단지,카달로그 외 모든 디자인 해드립니다\n",
      "[소원 디자인] 고 퀄리티 SNS카드뉴스 제작 해드립니다\n",
      "[24시간] 빠르고 저렴한 상세페이지 만들어드립니다\n",
      "[만족도 100%] 브랜드의 가치를 높여주는  전문적인 로고 디자인을 해드립니다\n",
      "[24시간] 배너/오픈마켓/소셜 상세페이지 디자인&상품등록 해드립니다\n",
      "(원본파일 제공)전단지 디자인 멋지게 해드립니다\n",
      "로고전문 브랜딩디자이너 / 무한시안제공해드립니다\n",
      "오픈 마켓, 소셜 커머스 상세 페이지! 12년 경력의 전문업체가 책임지고 만들어드립니다\n",
      "[HUUN Lap] 제품 디자인, 렌더링 이미지, 영상 제작해,드립니다\n",
      "3D 모델링, 렌더링, 조감도, 투시도, 제품, 아이소 건축, 인테리어, CG제작해드립니다\n",
      "[캘리그라피가능] 고퀄리티 CI/BI 로고디자인을 제작해드립니다\n",
      "페북웹툰/브랜드홍보 웹툰을 그려드립니다\n",
      "순정만화 속 주인공처럼! 고퀄리티 웹툰 초상화 그려드립니다\n",
      "간단한 배너부터 소셜 상세페이지까지 착한가격으로 고퀄리티의 디자인을해드립니다\n",
      "[할인EVENT]디자인스튜리오 \"리타\"에서 전문적이고 감각적인 로고제작해드립니다\n",
      "대기업 편집디자이너가 전단지/포스터/홍보물 디자인해드립니다\n",
      "[24시간 상담] 취향저격 팝업/배너/gif 배너/상세페이지 저렴한 가격으로 디자인해드립니다\n"
     ]
    }
   ],
   "source": [
    "# div요소가 순차적으로 들어있는 title_list를 순회\n",
    "# 각 순회에서 div요소는 'title'이라는 이름의 변수로 사용\n",
    "for title in title_list:\n",
    "    # div요소 (title)에서 양 끝의 여백을 잘라낸 텍스트를 가져와 출력해준다\n",
    "    print(title.get_text(strip=True))"
   ]
  },
  {
   "cell_type": "code",
   "execution_count": 45,
   "metadata": {},
   "outputs": [],
   "source": [
    "# page라는 변수를 받는 get_gig_list 함수를 선언\n",
    "def get_gig_list(category_id, page):\n",
    "    # 돌려줄 gig목록을 저장할 list\n",
    "    result = []\n",
    "    \n",
    "    # 문자열 포매팅을 사용해서 {}로 정의된 빈 부분을 \n",
    "    # 함수에 전달된 category_id와 page로 채운 문자열을 생성\n",
    "    url = 'https://kmong.com/category/{}?sort=ranking&random=5841&page={}'.format(\n",
    "        category_id, page\n",
    "    )\n",
    "    response = requests.get(url)\n",
    "    html = response.text\n",
    "    soup = BeautifulSoup(html, 'lxml')\n",
    "    \n",
    "    # 하나의 작업에 해당하는 div요소 (class값이 gig-wrapper)\n",
    "    # 들을 전부 찾아 gig_list에 할당\n",
    "    # gig_list는 순차적으로 데이터가 들어있는 리스트\n",
    "    gig_list = soup.find_all('div', class_='gig-wrapper')\n",
    "    \n",
    "    for gig in gig_list:\n",
    "        # 각 gig(div요소)에서 전체 텍스트가 아닌\n",
    "        # 제목 / 가격 / 판매자 아이디를 가져와 출력해본다\n",
    "        # 각각 title, price, seller변수를 사용\n",
    "        # gig안에서 HTML내용을 검색할때는\n",
    "        #    gig.find(무언가 조건)\n",
    "        # 각 div(class=\"gig-wrapper\")요소에서 gig-title클래스를 가진 요소의 내용을 여백 잘라내고 가져옴\n",
    "        title = gig.find('div', class_='gig-title').get_text(strip=True)\n",
    "        # class가 font-size-h4인 b요소의 내용을 가져옴\n",
    "        price = gig.find('b', class_='font-size-h4').get_text(strip=True)\n",
    "        # price에서 원화표시와 쉼표, ~을 없애고 좌우 여백을 없앰\n",
    "        price = price.replace('₩', '').replace(',', '').replace('~', '').strip()\n",
    "        # class가 gig-username인 div요소의 내용을 가져옴\n",
    "        seller = gig.find('div', class_='gig-username').get_text(strip=True)\n",
    "\n",
    "        # class가 gig-image인 div요소에서 \"한번더 검색\" -> class가 width-100인 img요소\n",
    "        # 해당 요소의 'src'속성을 가져옴\n",
    "        url_img_cover = gig.find('div', class_='gig-image').find('img', class_='width-100').get('src')\n",
    "\n",
    "        # 위의 코드를 두번에 나눠서 사용하면 아래와 같음\n",
    "        div_gig_image = gig.find('div', class_='gig-image')\n",
    "        url_img_cover = div_gig_image.find('img', class_='width-100').get('src')\n",
    "\n",
    "        # class가 plain인 a요소의 'href'속성을 가져옴\n",
    "        url_detail = gig.find('a', class_='plain').get('href')\n",
    "\n",
    "        # 크롤링으로 얻은 데이터를 이용해서 하나의 작업(gig)을 나타내는 dict객체 \"gig_dict\"를 만듬\n",
    "        gig_dict = {\n",
    "            'title': title,\n",
    "            'price': price,\n",
    "            'seller': seller,\n",
    "            'url_img_cover': url_img_cover,\n",
    "            'url_detail': url_detail,\n",
    "        }\n",
    "        # 함수의 마지막에서 돌려줄 리스트에 gig_dict를 추가\n",
    "        result.append(gig_dict)\n",
    "    return result"
   ]
  },
  {
   "cell_type": "code",
   "execution_count": 51,
   "metadata": {},
   "outputs": [],
   "source": [
    "def make_excel(category_id, page):\n",
    "    # 파이썬에서 엑셀파일을 만들 때 사용하는 패키지\n",
    "    import xlsxwriter\n",
    "    # 파이썬에서 이미지처리를 위해 필요한 모듈\n",
    "    from PIL import Image\n",
    "    # 파이썬에서 파일데이터를 다룰 때 필요한 모듈\n",
    "    from io import BytesIO\n",
    "    \"\"\"\n",
    "    category_id에 해당하는 gig목록을\n",
    "    page까지 가져와 엑셀파일로 만들어준다\n",
    "    ex) page가 4면 1~4페이지의 내용을 사용\n",
    "    \"\"\"\n",
    "    # gig목록을 담아둘 빈 리스트\n",
    "    gig_list = []\n",
    "    # 주어진 페이지번호까지 1부터 순회한다\n",
    "    # 각 순회마다 페이지번호는 i변수에 할당\n",
    "    # 끝값이 page + 1인 이유는 range의 끝번호는 '미만'으로 처리되기 때문\n",
    "    for i in range(1, page + 1):\n",
    "        # i(페이지번호)와 category_id에 해당하는 gig_list를 current_gig_list에 할당\n",
    "        current_gig_list = get_gig_list(category_id, i)\n",
    "        # gig목록 전체를 담아둘 리스트에 이 리스트의 내용을 추가\n",
    "        # .extend()는 리스트에 다른 리스트의 내용을 그대로 담고싶을때 사용\n",
    "        gig_list.extend(current_gig_list)\n",
    "        \n",
    "    # 엑셀 문서를 생성\n",
    "    workbook = xlsxwriter.Workbook('kmong.xlsx')\n",
    "    # 문서에서 사용할 양식들 추가\n",
    "    # 헤더에 해당하는 부분의 양식\n",
    "    # 테두리 있고, 글자가 굵고, 수평/수직 중앙정렬임\n",
    "    header_format = workbook.add_format({\n",
    "        'border': 1,\n",
    "        'bg_color': '#C6EFCE',\n",
    "        'bold': True,\n",
    "        'text_wrap': True,\n",
    "        'valign': 'vcenter',\n",
    "        'align': 'center',\n",
    "    })\n",
    "    pk_format = workbook.add_format({\n",
    "        'align': 'center',\n",
    "        'valign': 'vcenter',\n",
    "    })\n",
    "    content_format = workbook.add_format({\n",
    "        'valign': 'vcenter',\n",
    "        'indent': 1,\n",
    "    })\n",
    "    \n",
    "    # 엑셀파일에 새로운 Sheet를 생성\n",
    "    worksheet = workbook.add_worksheet()\n",
    "    # Sheet의 column길이를 지정\n",
    "    worksheet.set_column('A:A', 31.17)\n",
    "    worksheet.set_column('B:B', 75)\n",
    "    worksheet.set_column('C:C', 15)\n",
    "    worksheet.set_column('D:D', 29)\n",
    "    # gig_list에 있는 작업내용을 순회\n",
    "    for index, gig in enumerate(gig_list, start=1):\n",
    "        ### 이미지를 저장하기 위한 로직\n",
    "        # url_img_cover의 URL에 requests로 요청을 보냄\n",
    "        response = requests.get(gig['url_img_cover'])\n",
    "        # 요청의 응답 데이터를 가져옴\n",
    "        response_data = response.content\n",
    "        # 해당 데이터를 파일로 다룸\n",
    "        image_data = BytesIO(response_data)\n",
    "        # 이미지를 PNG로 변경 (gif가 엑셀에 삽입이 안됨)\n",
    "        convert_data = BytesIO()\n",
    "        Image.open(image_data).save(convert_data, 'PNG')\n",
    "        # 시트에 이미지를 삽입 (각 매개변수의 설명)\n",
    "        # insert_image(row, column, <이미지명>, {'image_data': <파이썬 파일 변수>})\n",
    "        worksheet.insert_image(index, 0, gig['url_img_cover'], {'image_data': convert_data})\n",
    "        # 이번 row의 높이를 126px로 지정\n",
    "        worksheet.set_row(index, 126)\n",
    "\n",
    "        # 시트에 내용을 기록\n",
    "        # (row, column, content) 순서\n",
    "        worksheet.write(index, 1, gig['title'], content_format)\n",
    "        worksheet.write(index, 2, gig['price'], content_format)\n",
    "        worksheet.write(index, 3, gig['seller'], content_format)\n",
    "    \n",
    "    workbook.close()"
   ]
  },
  {
   "cell_type": "code",
   "execution_count": 52,
   "metadata": {},
   "outputs": [],
   "source": [
    "make_excel(1, 1)"
   ]
  },
  {
   "cell_type": "code",
   "execution_count": null,
   "metadata": {},
   "outputs": [],
   "source": []
  },
  {
   "cell_type": "code",
   "execution_count": null,
   "metadata": {},
   "outputs": [],
   "source": []
  },
  {
   "cell_type": "code",
   "execution_count": 28,
   "metadata": {},
   "outputs": [],
   "source": [
    "def add_two(x):\n",
    "    return x + 2"
   ]
  },
  {
   "cell_type": "code",
   "execution_count": 53,
   "metadata": {},
   "outputs": [
    {
     "ename": "TypeError",
     "evalue": "add_two() takes 1 positional argument but 2 were given",
     "output_type": "error",
     "traceback": [
      "\u001b[0;31m---------------------------------------------------------\u001b[0m",
      "\u001b[0;31mTypeError\u001b[0m               Traceback (most recent call last)",
      "\u001b[0;32m<ipython-input-53-f8a4951a0ffa>\u001b[0m in \u001b[0;36m<module>\u001b[0;34m()\u001b[0m\n\u001b[0;32m----> 1\u001b[0;31m \u001b[0madd_two\u001b[0m\u001b[0;34m(\u001b[0m\u001b[0;36m35\u001b[0m\u001b[0;34m,\u001b[0m \u001b[0;36m24\u001b[0m\u001b[0;34m)\u001b[0m\u001b[0;34m\u001b[0m\u001b[0m\n\u001b[0m",
      "\u001b[0;31mTypeError\u001b[0m: add_two() takes 1 positional argument but 2 were given"
     ]
    }
   ],
   "source": [
    "add_two(35, 24)"
   ]
  },
  {
   "cell_type": "code",
   "execution_count": 30,
   "metadata": {},
   "outputs": [],
   "source": [
    "def make_string(first, second):\n",
    "    return 'first: {}, second: {}'.format(first, second)"
   ]
  },
  {
   "cell_type": "code",
   "execution_count": 31,
   "metadata": {},
   "outputs": [
    {
     "name": "stdout",
     "output_type": "stream",
     "text": [
      "first: Apple, second: Banana\n"
     ]
    }
   ],
   "source": [
    "result = make_string('Apple', 'Banana')\n",
    "print(result)"
   ]
  },
  {
   "cell_type": "code",
   "execution_count": 40,
   "metadata": {},
   "outputs": [
    {
     "name": "stdout",
     "output_type": "stream",
     "text": [
      "0: a\n",
      "1: p\n",
      "2: p\n",
      "3: l\n",
      "4: e\n"
     ]
    }
   ],
   "source": [
    "for index, char in enumerate('apple'):\n",
    "    print('{}: {}'.format(index, char))"
   ]
  }
 ],
 "metadata": {
  "kernelspec": {
   "display_name": "Python 3",
   "language": "python",
   "name": "python3"
  },
  "language_info": {
   "codemirror_mode": {
    "name": "ipython",
    "version": 3
   },
   "file_extension": ".py",
   "mimetype": "text/x-python",
   "name": "python",
   "nbconvert_exporter": "python",
   "pygments_lexer": "ipython3",
   "version": "3.6.3"
  }
 },
 "nbformat": 4,
 "nbformat_minor": 2
}
